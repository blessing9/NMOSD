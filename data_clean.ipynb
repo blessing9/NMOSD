{
 "cells": [
  {
   "cell_type": "code",
   "execution_count": 3,
   "metadata": {},
   "outputs": [],
   "source": [
    "import xlrd\n",
    "import re\n",
    "import csv\n",
    "import datetime\n",
    "import os\n",
    "\n",
    "default_data = {\n",
    "    \"blood\": [7.0, 2.03, 4.389],\n",
    "    \"blood_test\": [7.0, 29.0, 62.7],\n",
    "    \"thyroid\": [2.82, 1.234, 0.912, 7.35, 2.29, 80.816, 39.46],\n",
    "    \"ana18\": [0],\n",
    "    \"AQP4IgG\": [0],\n",
    "    \"t_b\": [236, 11.05, 215, 10.9, 1580, 77.91, 868, 622, 31.1, 42.2],\n",
    "    \"il_6\": [2.0],\n",
    "    \"medicine\": [0, 0, 0, 0, 0, 1],\n",
    "    \"visit\": [],\n",
    "    \"edss\": [0.0],\n",
    "    \"vitd\": [18.6, 49.88],\n",
    "    \"ig3\": [10.39, 1.83, 1.00],\n",
    "    \"wbc\": [8.0]\n",
    "}\n",
    "f = xlrd.open_workbook('data/original_sheet/NMOSD-2016-2017-清洗隐私-补充.xls')\n",
    "patients_1 = f.sheets()[0]\n",
    "visit_1 = f.sheets()[1]\n",
    "breakout_1 = f.sheets()[2]\n",
    "edss_1 = f.sheets()[3]\n",
    "blood_1 = f.sheets()[4]\n",
    "thyroid_1 = f.sheets()[5]\n",
    "ana18_1 = f.sheets()[6]\n",
    "aqp4igg_1 = f.sheets()[7]\n",
    "vitd_1 = f.sheets()[8]\n",
    "t_b_1 = f.sheets()[9]\n",
    "ig3_1 = f.sheets()[10]\n",
    "il_6_1 = f.sheets()[11]\n",
    "wbc_1 = f.sheets()[12]\n",
    "csf_1 = f.sheets()[13]\n",
    "ocb_1 = f.sheets()[14]\n",
    "medicine_1 = f.sheets()[16] \n",
    "f = xlrd.open_workbook('data/original_sheet/NMOSD-2018-2021-清洗隐私-补充.xls')\n",
    "patients_2 = f.sheets()[0]\n",
    "visit_2 = f.sheets()[1]\n",
    "breakout_2 = f.sheets()[2]\n",
    "edss_2 = f.sheets()[3]\n",
    "blood_2 = f.sheets()[4]\n",
    "thyroid_2 = f.sheets()[5]\n",
    "ana18_2 = f.sheets()[6]\n",
    "aqp4igg_2 = f.sheets()[7]\n",
    "vitd_2 = f.sheets()[8]\n",
    "t_b_2 = f.sheets()[9]\n",
    "ig3_2 = f.sheets()[10]\n",
    "il_6_2 = f.sheets()[11]\n",
    "wbc_2 = f.sheets()[12]\n",
    "csf_2 = f.sheets()[13]\n",
    "ocb_2 = f.sheets()[14]\n",
    "medicine_2 = f.sheets()[16] \n",
    "\n",
    "f = xlrd.open_workbook('data/original_sheet/血常规数据-20221017.xls')\n",
    "blood_new = f.sheets()[1]"
   ]
  },
  {
   "cell_type": "code",
   "execution_count": 4,
   "metadata": {},
   "outputs": [],
   "source": [
    "#将字符串转换为float型数据\n",
    "def str_to_float(s):\n",
    "    if isinstance(s, float) or isinstance(s, int):\n",
    "        return s\n",
    "    else:\n",
    "        k1 = re.compile(r'(\\d+\\.\\d+)', re.S)\n",
    "        k2 = re.compile(r'(\\d+)', re.S)\n",
    "        t = re.findall(k1, s) + re.findall(k2, s)\n",
    "        t = float(t[0])\n",
    "        if t == 0:\n",
    "            raise IndexError\n",
    "        return t\n",
    "\n",
    "#检测time字符串是否符合日期格式\n",
    "def check_time(time):\n",
    "    try:\n",
    "        datetime.datetime.strptime(time, '%Y-%m-%d')\n",
    "    except ValueError:\n",
    "        print(time)\n",
    "        if time == '2015-06-31':\n",
    "            time = '2015-07-01'\n",
    "        if time[-2:] == 'NK':\n",
    "            time = time[:-2]+'01'\n",
    "    return time\n",
    "\n",
    "#逐行读表并写入新表\n",
    "def read_table(sheet, order, item, process):\n",
    "    f = open(f'data/washed_sheet/{item}{order}.csv', 'w', encoding='gb2312', newline='')\n",
    "    w = csv.writer(f)\n",
    "    for i in range(1, sheet.nrows):\n",
    "        row = sheet.row_values(i)\n",
    "        t = process(row, order)\n",
    "        if t[1] != '0000-00-00':\n",
    "            w.writerow(t)\n",
    "\n",
    "#合并同一个项目的两张表，并输出两张表的重合部分\n",
    "def merge(task):\n",
    "    overlap = 0 #两张表中重复的表项（同一个病人同一天两个记录）\n",
    "    conflict = 0 #两张表中冲突的表项（同一个病人同一天两个记录不一样）\n",
    "    result = {}\n",
    "    f1 = open(f'data/washed_sheet/{task}1.csv', 'r')\n",
    "    f2 = open(f'data/washed_sheet/{task}2.csv', 'r')\n",
    "    sheet1 = csv.reader(f1)\n",
    "    for row in sheet1:\n",
    "        result[(int(row[0]), row[1])] = row[2:]\n",
    "    sheet2 = csv.reader(f2)\n",
    "    for row in sheet2:\n",
    "        if (int(row[0]), row[1]) in result.keys():\n",
    "            overlap += 1\n",
    "            if row[2:] != result[(int(row[0]), row[1])]:\n",
    "                conflict += 1\n",
    "            if task != 'blood':\n",
    "                result[(int(row[0]), row[1])] = row[2:]\n",
    "        else:\n",
    "            result[(int(row[0]), row[1])] = row[2:]\n",
    "    print(f'ovrelap:{overlap}\\tconflict:{conflict}')\n",
    "    print(f'{len(result.keys())} records in total')\n",
    "    #合并\n",
    "    w = csv.writer(open(f'data/washed_sheet/{task}.csv','w',newline=''))\n",
    "    for k,v in result.items():\n",
    "        w.writerow([k[0],k[1]]+v)\n",
    "    \n",
    "    f1.close()\n",
    "    f2.close()\n",
    "    os.remove(f'data/washed_sheet/{task}1.csv')\n",
    "    os.remove(f'data/washed_sheet/{task}2.csv')\n",
    "\n",
    "#在冲突的数据中（同一个病人同一天有两条检测记录）选出一个\n",
    "def choose_data(l1, l2):\n",
    "    count1 = sum([1 for i in l1 if i != ''])\n",
    "    count2 = sum([1 for i in l2 if i != ''])\n",
    "    return l1 if count1 >= count2 else l2\n",
    "\n",
    "#清洗两张表，并存储到{item}1/2.csv中。包括去重，补全，pro：具体的表项处理函数\n",
    "def clean(sheet1, sheet2, item, pro):\n",
    "    #去重\n",
    "    index = {'blood': [[5, 6, 7],[7,5,6]], 'thyroid':[list(range(5,12)),list(range(5,12))],\n",
    "            'ana18':[list(range(5,24)),list(range(5,24))],'aqp4igg':[[5,5],[5,6]],\n",
    "            'vitd':[[6,10],[5,6]],'t_b':[list(range(5,14))+[19],list(range(5,14))+[19]],\n",
    "            'ig3':[list(range(5,8)),list(range(5,8))],'il_6':[[5],[5]],\n",
    "            'wbc':[[5],[5]],'csf':[[5],[7]],'ocb':[[5],[5]],'medicine':[[4],[4]]} #不同检测项目提取数据所在列\n",
    "    result1 = {}\n",
    "    result2 = {}\n",
    "    for i in range(1, sheet1.nrows):\n",
    "        row = sheet1.row_values(i)\n",
    "        id = int(row[0])\n",
    "        time = check_time(row[3])\n",
    "        if time == '0000-00-00':#如果时间是0000-00-00舍弃这条数据\n",
    "            continue\n",
    "        #提取每一行的原始数据\n",
    "        data = [row[j] for j in index[item][0]]\n",
    "        if (id, time) in result1.keys():\n",
    "            result1[(id, time)] = choose_data(result1[(id, time)], data)\n",
    "            continue\n",
    "        result1[(id,time)] = data\n",
    "    for i in range(1, sheet2.nrows):\n",
    "        row = sheet2.row_values(i)\n",
    "        id = int(row[0])\n",
    "        time = check_time(row[3])\n",
    "        if time == '0000-00-00':\n",
    "            continue\n",
    "        data = [row[j] for j in index[item][1]]\n",
    "        if (id, time) in result2.keys():\n",
    "            result2[(id,time)] = choose_data(result2[(id,time)],data)\n",
    "            continue\n",
    "        result2[(id,time)] = data\n",
    "    #存表\n",
    "    f1 = open(f'data/washed_sheet/{item}1.csv','w', encoding='gb2312',newline='')\n",
    "    f2 = open(f'data/washed_sheet/{item}2.csv','w', encoding='gb2312',newline='')\n",
    "    w1 = csv.writer(f1)\n",
    "    w2 = csv.writer(f2)\n",
    "\n",
    "    num1 = num2 = 0\n",
    "    for k,v in result1.items():\n",
    "        valid, line = pro(v)\n",
    "        if valid:\n",
    "            num1 += 1\n",
    "            w1.writerow([k[0],k[1]]+line)\n",
    "    for k,v in result2.items():\n",
    "        valid, line = pro(v)\n",
    "        if valid:\n",
    "            num2 += 1\n",
    "            w2.writerow([k[0],k[1]]+line)\n",
    "    print(f'{num1}/{num2} records left after duplicate removal')\n"
   ]
  },
  {
   "cell_type": "markdown",
   "metadata": {},
   "source": [
    "### patients"
   ]
  },
  {
   "cell_type": "code",
   "execution_count": 21,
   "metadata": {},
   "outputs": [
    {
     "name": "stdout",
     "output_type": "stream",
     "text": [
      "Sheet 1\n",
      "\trows:515\n",
      "Sheet 2\n",
      "\trows:933\n"
     ]
    }
   ],
   "source": [
    "print(f'Sheet 1\\n\\trows:{patients_1.nrows - 1}')\n",
    "print(f'Sheet 2\\n\\trows:{patients_2.nrows - 1}')"
   ]
  },
  {
   "cell_type": "code",
   "execution_count": 22,
   "metadata": {},
   "outputs": [
    {
     "name": "stdout",
     "output_type": "stream",
     "text": [
      "0000-00-00\n",
      "ovrelap:515\tconflict:0\n",
      "932 records in total\n"
     ]
    }
   ],
   "source": [
    "def clean_patients(sheet, order):\n",
    "    def get_diagnosis(s):\n",
    "        res = [0, 0, 0, 0]\n",
    "        s = s.upper()\n",
    "        if s.__contains__(\"NMOSD\"):\n",
    "            res[0] = 1\n",
    "        elif s.__contains__(\"NMO\"):\n",
    "            res[1] = 1\n",
    "        if s.__contains__(\"PSS\") or s.__contains__(\"干燥综合征\"):\n",
    "            res[2] = 1\n",
    "        if s.__contains__(\"SLE\"):\n",
    "            res[3] = 1\n",
    "        return res\n",
    "    def pro(row, order):\n",
    "        id = int(row[0])\n",
    "        gender = 1 if row[1].__contains__('男') else 0\n",
    "        birthday = check_time(row[2])\n",
    "        diagnosis = get_diagnosis(row[8])\n",
    "        return [id, birthday, gender] + diagnosis\n",
    "    read_table(sheet, order, 'patients', pro)\n",
    "\n",
    "clean_patients(patients_1, 1)\n",
    "clean_patients(patients_2, 2)\n",
    "merge('patients')\n"
   ]
  },
  {
   "cell_type": "markdown",
   "metadata": {},
   "source": [
    "### visit"
   ]
  },
  {
   "cell_type": "code",
   "execution_count": 23,
   "metadata": {},
   "outputs": [
    {
     "name": "stdout",
     "output_type": "stream",
     "text": [
      "Sheet 1\n",
      "\trows:4200\n",
      "\tdeath:5\n",
      "Sheet 1\n",
      "\trows:5989\n",
      "\tdeath:6\n"
     ]
    }
   ],
   "source": [
    "print(f'Sheet 1\\n\\trows:{visit_1.nrows - 1}\\n\\tdeath:{sum([1 for i in visit_1.col_values(5) if i.__contains__(\"去世\") or i.__contains__(\"死亡\")])}')\n",
    "print(f'Sheet 1\\n\\trows:{visit_2.nrows - 1}\\n\\tdeath:{sum([1 for i in visit_2.col_values(5) if i.__contains__(\"去世\") or i.__contains__(\"死亡\")])}')"
   ]
  },
  {
   "cell_type": "code",
   "execution_count": 24,
   "metadata": {},
   "outputs": [
    {
     "name": "stdout",
     "output_type": "stream",
     "text": [
      "0000-00-00\n",
      "ovrelap:4200\tconflict:0\n",
      "5988 records in total\n"
     ]
    }
   ],
   "source": [
    "def visit(sheet, order):\n",
    "    def pro(row, order):\n",
    "        id = int(row[0])\n",
    "        time = check_time(row[4])\n",
    "        return [id, time]\n",
    "    read_table(sheet, order, 'visit', pro)\n",
    "\n",
    "visit(visit_1, 1)\n",
    "visit(visit_2, 2)\n",
    "merge('visit')"
   ]
  },
  {
   "cell_type": "markdown",
   "metadata": {},
   "source": [
    "### breakout"
   ]
  },
  {
   "cell_type": "code",
   "execution_count": 3,
   "metadata": {},
   "outputs": [
    {
     "name": "stdout",
     "output_type": "stream",
     "text": [
      "Sheet 1\n",
      "\trows:2005\n",
      "Sheet 2\n",
      "\trows:2965\n",
      "\tsymptom censoring:29\n",
      "\toutcome censoring:145\n"
     ]
    }
   ],
   "source": [
    "print(f'Sheet 1\\n\\trows:{breakout_1.nrows - 1}')\n",
    "print(f'Sheet 2\\n\\trows:{breakout_2.nrows - 1}')\n",
    "print(f'\\tsymptom censoring:{sum([1 for i in breakout_2.col_values(5)[1:] if i == \"\" or i.__contains__(\"其他\")])}')\n",
    "print(f'\\toutcome censoring:{sum([1 for i in breakout_2.col_values(7)[1:] if i == \"\" or i.__contains__(\"不详\")])}')"
   ]
  },
  {
   "cell_type": "code",
   "execution_count": 4,
   "metadata": {},
   "outputs": [
    {
     "name": "stdout",
     "output_type": "stream",
     "text": [
      "2015-06-31\n",
      "2017-05-NK\n",
      "2015-06-31\n",
      "2017-05-NK\n",
      "ovrelap:2005\tconflict:0\n",
      "2965 records in total\n"
     ]
    }
   ],
   "source": [
    "def breakout(sheet, order):\n",
    "    #发作症状，没用上\n",
    "    def get_symptom(s):\n",
    "        res = [0, 0, 0, 0]\n",
    "        # 基本上是这六个发病位置，有极少的其他和删失，都用默认值\n",
    "        if s.__contains__(\"视神经\"):\n",
    "            res[0] = 1\n",
    "        if s.__contains__('脊髓') or s.__contains__('尿/便障碍'):\n",
    "            res[1] = 1\n",
    "        if s.__contains__(\"大脑\"):\n",
    "            res[2] = 1\n",
    "        if s.__contains__(\"小脑\"):\n",
    "            res[3] = 1\n",
    "        return res\n",
    "    #治疗方式，没用上\n",
    "    def get_treatment(s):\n",
    "        res = [0, 0, 0, 0]\n",
    "        s = s.upper()\n",
    "        if s.__contains__(\"激素\"):\n",
    "            res[0] = 1\n",
    "        if s.__contains__(\"IVIG\"):\n",
    "            res[1] = 1\n",
    "        if s.__contains__(\"中\"):  #中医/中药\n",
    "            res[2] = 1\n",
    "        if s.__contains__(\"其他\"):\n",
    "            res[3] = 1\n",
    "        return res\n",
    "    #转归，没用上\n",
    "    def get_outcome(s):\n",
    "        if s.__contains__(\"完全\"):\n",
    "            return [1]\n",
    "        if s.__contains__(\"无\"):\n",
    "            return [0]\n",
    "        if s.__contains__('部分'):\n",
    "            return [0.5]\n",
    "        return [-1]\n",
    "    def pro(row, order):\n",
    "        id = int(row[0])\n",
    "        time = check_time(row[4])\n",
    "        symptom = get_symptom(row[5])\n",
    "        treatment = get_treatment(row[5])\n",
    "        outcome = get_outcome(row[7])\n",
    "        return [id, time] + symptom + treatment + outcome\n",
    "    read_table(sheet, order, 'breakout', pro)\n",
    "breakout(breakout_1, 1)\n",
    "breakout(breakout_2, 2)\n",
    "merge('breakout')"
   ]
  },
  {
   "cell_type": "markdown",
   "metadata": {},
   "source": [
    "### edss"
   ]
  },
  {
   "cell_type": "markdown",
   "metadata": {},
   "source": [
    "#### sheet 1"
   ]
  },
  {
   "cell_type": "code",
   "execution_count": 27,
   "metadata": {},
   "outputs": [
    {
     "name": "stdout",
     "output_type": "stream",
     "text": [
      "rows:\t2278\n",
      "censoring:\n",
      "\t得分:0\n",
      "conflict:\n"
     ]
    }
   ],
   "source": [
    "names = edss_1.row_values(0)[14]\n",
    "print(f'rows:\\t{edss_1.nrows - 1}')\n",
    "print(f'censoring:\\n\\t{names}:{sum([1 for i in edss_1.col_values(14)[1:] if i == \"\"])}')\n",
    "print('conflict:')\n",
    "result = {}\n",
    "for i in range(1, edss_1.nrows):\n",
    "    row = edss_1.row_values(i)\n",
    "    if (int(row[0]),row[4]) not in result.keys():\n",
    "        result[(int(row[0]),row[4])] = []\n",
    "    result[(int(row[0]), row[4])].append(row[14])\n",
    "for k,v in result.items():\n",
    "    if len(v) > 1:\n",
    "        print(f'\\t{k}:\\t{v}')"
   ]
  },
  {
   "cell_type": "markdown",
   "metadata": {},
   "source": [
    "#### sheet 2"
   ]
  },
  {
   "cell_type": "code",
   "execution_count": 28,
   "metadata": {},
   "outputs": [
    {
     "name": "stdout",
     "output_type": "stream",
     "text": [
      "rows:\t3002\n",
      "censoring:\n",
      "\t得分:0\n",
      "conflict:\n"
     ]
    }
   ],
   "source": [
    "names = edss_2.row_values(0)[14]\n",
    "print(f'rows:\\t{edss_2.nrows - 1}')\n",
    "print(f'censoring:\\n\\t{names}:{sum([1 for i in edss_2.col_values(14)[1:] if i == \"\"])}')\n",
    "print('conflict:')\n",
    "result = {}\n",
    "for i in range(1, edss_2.nrows):\n",
    "    row = edss_2.row_values(i)\n",
    "    if (int(row[0]),row[4]) not in result.keys():\n",
    "        result[(int(row[0]),row[4])] = []\n",
    "    result[(int(row[0]), row[4])].append(row[14])\n",
    "for k,v in result.items():\n",
    "    if len(v) > 1:\n",
    "        print(f'\\t{k}:\\t{v}')"
   ]
  },
  {
   "cell_type": "code",
   "execution_count": 29,
   "metadata": {},
   "outputs": [
    {
     "name": "stdout",
     "output_type": "stream",
     "text": [
      "ovrelap:2278\tconflict:0\n",
      "3002 records in total\n"
     ]
    }
   ],
   "source": [
    "def edss(sheet, order):\n",
    "    def pro(row, order):\n",
    "        id = int(row[0])\n",
    "        time = check_time(row[4])\n",
    "        edss = row[14]\n",
    "        return [id, time, edss]\n",
    "    read_table(sheet, order, 'edss', pro)\n",
    "\n",
    "edss(edss_1, 1)\n",
    "edss(edss_2, 2)\n",
    "merge('edss')"
   ]
  },
  {
   "cell_type": "markdown",
   "metadata": {},
   "source": [
    "### blood"
   ]
  },
  {
   "cell_type": "markdown",
   "metadata": {},
   "source": [
    "#### sheet 1"
   ]
  },
  {
   "cell_type": "code",
   "execution_count": 5,
   "metadata": {},
   "outputs": [
    {
     "name": "stdout",
     "output_type": "stream",
     "text": [
      "rows:\t2981\n",
      "censoring:\n",
      "\t白细胞计数:5\n",
      "\tLY%:248\n",
      "\tNEUT%:256\n",
      "conflict:\n",
      "\t(107083001, '2014-11-24'):\t[[7.61, 22.7, 73.0], [7.61, '', '']]\n",
      "\t(101789021, '2015-12-22'):\t[[11.32, 35.2, 58.8], [11.32, '', '']]\n",
      "\t(102931087, '2016-04-12'):\t[[6.12, 27.9, 63.9], [6.12, '', '']]\n",
      "\t(107082985, '2014-11-20'):\t[[12.81, 12.5, 84.6], [12.81, '', '']]\n",
      "\t(107083293, '2014-12-15'):\t[[4.3, 37.9, 52.2], [4.3, '', '']]\n",
      "\t(101805533, '2015-10-27'):\t[[5.49, '', ''], [5.49, '', '']]\n",
      "\t(101749963, '2015-08-15'):\t[[5.4, '', ''], [5.4, '', '']]\n",
      "\t(107082653, '2015-04-14'):\t[[8.54, 29.6, 66.2], [8.54, '', '']]\n",
      "\t(103667153, '2015-05-08'):\t[[14.11, 13.1, 82.5], [14.11, '', '']]\n",
      "\t(101967351, '2016-02-29'):\t[[7.02, 35.6, 57.9], [7.02, '', '']]\n",
      "\t(103693467, '2015-11-09'):\t[[12.58, 24.1, 70.1], [12.58, '', '']]\n",
      "\t(101884943, '2015-06-16'):\t[[7.75, 31.4, 62.6], [7.75, '', '']]\n",
      "\t(107082925, '2015-03-16'):\t[[5.3, 18.6, 74.5], [5.3, '', '']]\n",
      "\t(103525345, '2016-05-16'):\t[[8.94, '', ''], [8.94, '', '']]\n",
      "\t(107082945, '2014-12-30'):\t[[10.11, 4.2, 92.4], [10.11, '', '']]\n",
      "\t(104664335, '2015-05-14'):\t[[9.72, '', ''], [9.72, '', '']]\n",
      "\t(101909619, '2016-01-25'):\t[[5.94, 44.3, 46.1], [5.94, '', '']]\n"
     ]
    }
   ],
   "source": [
    "names = blood_1.row_values(0)[5:8]\n",
    "print(f'rows:\\t{blood_1.nrows - 1}')\n",
    "print('censoring:')\n",
    "for i in range(len(names)):\n",
    "    print(f'\\t{names[i]}:{sum([1 for j in blood_1.col_values(5+i)[1:] if j == \"\"])}')\n",
    "print('conflict:')\n",
    "result = {}\n",
    "for i in range(1, blood_1.nrows):\n",
    "    row = blood_1.row_values(i)\n",
    "    if (int(row[0]),row[3]) not in result.keys():\n",
    "        result[(int(row[0]),row[3])] = []\n",
    "    result[(int(row[0]), row[3])].append(row[5:8])\n",
    "for k,v in result.items():\n",
    "    if len(v) > 1:\n",
    "        print(f'\\t{k}:\\t{v}')"
   ]
  },
  {
   "cell_type": "markdown",
   "metadata": {},
   "source": [
    "#### sheet 2"
   ]
  },
  {
   "cell_type": "code",
   "execution_count": 6,
   "metadata": {},
   "outputs": [
    {
     "name": "stdout",
     "output_type": "stream",
     "text": [
      "rows:\t3998\n",
      "censoring:\n",
      "\tLY%:1315\n",
      "\tNEUT%:1327\n",
      "\tWBC:16\n",
      "conflict:\n",
      "\t(107083001, '2014-11-24'):\t[['', '', '13.10'], ['', '', '13.21']]\n",
      "\t(101789021, '2015-12-22'):\t[['', '', '5.96'], [37.2, 54.8, '5.88']]\n",
      "\t(102931087, '2016-04-12'):\t[['', '', '10.73'], [22.3, 69.7, '8.07']]\n",
      "\t(107082985, '2014-11-20'):\t[['16.5 降低', '76.7 升高', '5.63'], ['19.9 降低', 73.8, '5.27']]\n",
      "\t(107083293, '2014-12-15'):\t[['', '', '7.85'], ['', '', '1.27']]\n",
      "\t(101805533, '2015-10-27'):\t[['19.9 降低', 73.2, '3.81'], ['17.1 降低', '78.2 升高', '4.92']]\n",
      "\t(101749963, '2015-08-15'):\t[['', '', '11.55'], ['', '', '12.37']]\n",
      "\t(107082653, '2015-04-14'):\t[['', '', '7.12'], [35.3, 57.6, '8.86']]\n",
      "\t(103667153, '2015-05-08'):\t[['', '', '8.23'], ['', '', '6.52']]\n",
      "\t(101967351, '2016-02-29'):\t[['', '', '4.82'], ['', '', '6.34']]\n",
      "\t(103693467, '2015-11-09'):\t[[32.4, 54.6, '5.65'], ['14.9 降低', '80.9 升高', '14.69']]\n",
      "\t(101884943, '2015-06-16'):\t[[34.2, 61.7, '6.64'], [25.6, 65.7, '6.48']]\n",
      "\t(107082925, '2015-03-16'):\t[[28.5, 52.9, '1.93'], ['44.6 升高', 50.2, '5.65']]\n",
      "\t(103525345, '2016-05-16'):\t[['42.3 升高', 53.4, '4.4'], ['41.5 升高', 54.1, '6.02']]\n",
      "\t(107082945, '2014-12-30'):\t[[32.1, 61.8, '8.88'], [32.7, 60.9, '8.62']]\n",
      "\t(104664335, '2015-05-14'):\t[[30.0, 58.1, '6.66'], [30.8, 58.4, '6.39']]\n",
      "\t(101909619, '2016-01-25'):\t[[32.3, 55.8, '6.85'], [32.8, 58.1, '7.05']]\n"
     ]
    }
   ],
   "source": [
    "names = blood_2.row_values(0)[5:8]\n",
    "print(f'rows:\\t{blood_2.nrows - 1}')\n",
    "print('censoring:')\n",
    "for i in range(len(names)):\n",
    "    print(f'\\t{names[i]}:{sum([1 for j in blood_2.col_values(5+i)[1:] if j == \"\"])}')\n",
    "print('conflict:')\n",
    "result = {}\n",
    "for i in range(1, blood_2.nrows):\n",
    "    row = blood_2.row_values(i)\n",
    "    if (int(row[0]),row[3]) not in result.keys():\n",
    "        result[(int(row[0]),row[3])] = []\n",
    "    result[(int(row[0]), row[3])].append(row[5:8])\n",
    "for k,v in result.items():\n",
    "    if len(v) > 1:\n",
    "        print(f'\\t{k}:\\t{v}')"
   ]
  },
  {
   "cell_type": "code",
   "execution_count": 7,
   "metadata": {},
   "outputs": [
    {
     "name": "stdout",
     "output_type": "stream",
     "text": [
      "2964/3981 records left after duplicate removal\n",
      "ovrelap:2964\tconflict:2964\n",
      "3981 records in total\n"
     ]
    }
   ],
   "source": [
    "\n",
    "#从原始表项获取血常规检测数据\n",
    "def pro(list):\n",
    "    default = default_data[\"blood_test\"]\n",
    "    max = [100, 100, 100]\n",
    "    res = []\n",
    "    for i in range(len(list)):\n",
    "        try:\n",
    "            t = str_to_float(list[i])\n",
    "            if t < max[i]:\n",
    "                res.append(t)\n",
    "            else:\n",
    "                raise IndexError\n",
    "        except IndexError:\n",
    "            # 数据缺失\n",
    "            res.append(default[i])\n",
    "    res[1] = res[0] * res[1] * 0.01\n",
    "    res[2] = res[0] * res[2] * 0.01\n",
    "    return True,res\n",
    "\n",
    "#清洗\n",
    "clean(blood_1,blood_2,'blood',pro)\n",
    "\n",
    "\n",
    "#合并\n",
    "merge('blood')"
   ]
  },
  {
   "cell_type": "code",
   "execution_count": 11,
   "metadata": {},
   "outputs": [
    {
     "name": "stdout",
     "output_type": "stream",
     "text": [
      "rows:\t4451\n",
      "censoring:\n",
      "\t白细胞计数（x10^9/L）:7\n",
      "\tNEUT#（x10^9/L）:829\n",
      "\tLY#（x10^9/L）:4077\n",
      "\tRBC（x10^12/L）:16\n",
      "\tHGB（g/L）:15\n",
      "\tPLT（x10^9/L）:28\n",
      "conflict:\n",
      "\t(102972811, '2022-06-01'):\t[['9.11', '5.721', '2.642', '4.56', '141', '336'], ['9.11', '5.721', '2.642', '4.56', '141', '336']]\n",
      "\t(102972627, '2022-02-25'):\t[['9.07', '5.48', '3', '4.24', '135', '202'], ['9.07', '5.48', '3', '4.24', '135', '202']]\n",
      "\t(102931087, '2016-04-12'):\t[['6.12', '', '', '3.95', '131', '252'], ['6.12', '', '', '3.95', '131', '252']]\n",
      "\t(104664335, '2015-05-14'):\t[['9.72', '', '', '4.95', '146', '321.0|升高'], ['9.72', '', '', '4.95', '146', '321']]\n",
      "\t(101967351, '2016-02-29'):\t[['7.02', '', '', '5.95|升高', '119', '208'], ['7.02', '', '', '5.95', '119', '208']]\n",
      "\t(101909619, '2016-01-25'):\t[['5.94', '', '', '4.55', '133', '312'], ['5.94', '', '', '4.55', '133', '312']]\n",
      "\t(101884943, '2015-06-16'):\t[['7.75', '', '', '4.45', '132', '177'], ['7.75', '', '', '4.45', '132', '177']]\n",
      "\t(103811719, '2022-01-21'):\t[['6.23', '3.73', '1.97', '4.56', '138', '355|升高'], ['6.23', '3.73', '1.97', '4.56', '138', '355|升高']]\n",
      "\t(103693467, '2015-11-09'):\t[['12.58|升高', '', '', '5.33', '140', '395'], ['12.58', '', '', '5.33', '140', '395']]\n",
      "\t(103667153, '2015-05-08'):\t[['14.11|升高', '', '', '4.89', '141', '269'], ['14.11', '', '', '4.89', '141', '269']]\n",
      "\t(101805533, '2015-10-27'):\t[['5.49', '', '', '4.27', '146', '95|降低'], ['5.49', '', '', '4.27', '146', '96']]\n",
      "\t(101789021, '2015-12-22'):\t[['11.32|升高', '', '', '4.73', '144', '262'], ['11.32', '', '', '4.73', '144', '262']]\n",
      "\t(103525345, '2016-05-16'):\t[['8.94', '', '', '3.96', '130', '211'], ['8.94', '', '', '3.96', '130', '211']]\n",
      "\t(101749963, '2015-08-15'):\t[['5.4', '', '', '3.82', '126', '63|降低'], ['5.4', '', '', '3.82', '126', '63']]\n",
      "\t(107083001, '2014-11-24'):\t[['7.61', '', '', '4.75', '145', '189'], ['7.61', '', '', '4.75', '145', '189']]\n",
      "\t(107082985, '2014-11-20'):\t[['12.81|升高', '', '', '4.53', '130', '354'], ['12.81', '', '', '4.53', '130', '354']]\n",
      "\t(107082945, '2014-12-30'):\t[['10.11|升高', '', '', '4.45', '131', '242'], ['10.11', '', '', '4.45', '131', '242']]\n",
      "\t(107082925, '2015-03-16'):\t[['5.3', '', '', '3.71', '132', '164'], ['5.3', '', '', '3.71', '132', '164']]\n",
      "\t(107082653, '2015-04-14'):\t[['8.54', '', '', '3.91', '123', '266'], ['8.54', '', '', '3.91', '123', '266']]\n",
      "\t(11338137156, '2022-05-10'):\t[['11.8|升高', '7.89|升高', '3.26|升高', '4.82', '141', '210'], ['11.8|升高', '7.89|升高', '3.26|升高', '4.82', '141', '210']]\n",
      "\t(107083293, '2014-12-15'):\t[['4.3', '', '', '4.92', '158', '210'], ['4.3', '', '', '4.92', '158', '210']]\n"
     ]
    }
   ],
   "source": [
    "names = blood_new.row_values(0)[7:13]\n",
    "print(f'rows:\\t{blood_new.nrows - 1}')\n",
    "print('censoring:')\n",
    "for i in range(len(names)):\n",
    "    print(f'\\t{names[i]}:{sum([1 for j in blood_new.col_values(7+i)[1:] if j == \"\"])}')\n",
    "print('conflict:')\n",
    "result = {}\n",
    "for i in range(1, blood_new.nrows):\n",
    "    row = blood_new.row_values(i)\n",
    "    if (int(row[0]),row[5]) not in result.keys():\n",
    "        result[(int(row[0]),row[5])] = []\n",
    "    result[(int(row[0]), row[5])].append(row[7:13])\n",
    "for k,v in result.items():\n",
    "    if len(v) > 1:\n",
    "        print(f'\\t{k}:\\t{v}')"
   ]
  },
  {
   "cell_type": "code",
   "execution_count": null,
   "metadata": {},
   "outputs": [],
   "source": []
  },
  {
   "cell_type": "markdown",
   "metadata": {},
   "source": [
    "### thyroid"
   ]
  },
  {
   "cell_type": "markdown",
   "metadata": {},
   "source": [
    "#### sheet 1"
   ]
  },
  {
   "cell_type": "code",
   "execution_count": 33,
   "metadata": {},
   "outputs": [
    {
     "name": "stdout",
     "output_type": "stream",
     "text": [
      "rows:\t563\n",
      "censoring:\n",
      "\tFT3:6\n",
      "\tFT4:6\n",
      "\tT3:16\n",
      "\tT4:17\n",
      "\tTSH3:8\n",
      "\tA-Tg:20\n",
      "\tA-TPO:20\n",
      "conflict:\n",
      "\t(102051979, '2016-02-22'):\t[[2.43, 1.378, 0.936, 9.51, 0.571, 37.06, 8.45], [2.43, 1.378, 0.936, 9.51, 0.571, 37.06, 8.45]]\n",
      "\t(103166519, '2014-01-09'):\t[[3.04, 1.227, '', '', 0.651, '', ''], [3.04, 1.227, '', '', 0.651, '', '']]\n",
      "\t(102530541, '2014-11-18'):\t[[3.47, 1.314, 1.214, 8.69, '4.684 升高', 96.51, '>600 升高'], [3.47, 1.314, 1.214, 8.69, 4.684, 96.51, '>600.0']]\n",
      "\t(102036229, '2016-03-08'):\t[['4.11 升高', 1.271, '1.924 升高', 9.32, 2.772, 11.09, 9.9], [4.11, 1.271, 1.924, 9.32, 2.772, 11.09, 9.9]]\n",
      "\t(104664335, '2015-05-14'):\t[[2.93, 1.34, 0.73, 7.5, 1.433, '158.7 升高', '<28.0'], [2.93, 1.34, 0.73, 7.5, 1.433, 158.7, '<28.0']]\n"
     ]
    }
   ],
   "source": [
    "names = thyroid_1.row_values(0)[5:12]\n",
    "print(f'rows:\\t{thyroid_1.nrows - 1}')\n",
    "print('censoring:')\n",
    "for i in range(len(names)):\n",
    "    print(f'\\t{names[i]}:{sum([1 for j in thyroid_1.col_values(5+i)[1:] if j == \"\"])}')\n",
    "print('conflict:')\n",
    "result = {}\n",
    "for i in range(1, thyroid_1.nrows):\n",
    "    row = thyroid_1.row_values(i)\n",
    "    if (int(row[0]),row[3]) not in result.keys():\n",
    "        result[(int(row[0]),row[3])] = []\n",
    "    result[(int(row[0]), row[3])].append(row[5:12])\n",
    "for k,v in result.items():\n",
    "    if len(v) > 1:\n",
    "        print(f'\\t{k}:\\t{v}')"
   ]
  },
  {
   "cell_type": "markdown",
   "metadata": {},
   "source": [
    "#### sheet 2"
   ]
  },
  {
   "cell_type": "code",
   "execution_count": 34,
   "metadata": {},
   "outputs": [
    {
     "name": "stdout",
     "output_type": "stream",
     "text": [
      "rows:\t937\n",
      "censoring:\n",
      "\tFT3:8\n",
      "\tFT4:8\n",
      "\tT3:21\n",
      "\tT4:22\n",
      "\tTSH3:11\n",
      "\tA-Tg:28\n",
      "\tA-TPO:29\n",
      "conflict:\n",
      "\t(102051979, '2016-02-22'):\t[['2.43', '1.378', '0.936', '9.51', '0.571', '37.06', '8.45'], ['2.43', '1.378', '0.936', '9.51', '0.571', '37.06', '8.45']]\n",
      "\t(103166519, '2014-01-09'):\t[['3.04', '1.227', '', '', '0.651', '', ''], ['3.04', '1.227', '', '', '0.651', '', '']]\n",
      "\t(102530541, '2014-11-18'):\t[['3.47', '1.314', '1.214', '8.69', '4.684', '96.51', '>600'], ['3.47', '1.314', '1.214', '8.69', '4.684', '96.51', '>600.0']]\n",
      "\t(102036229, '2016-03-08'):\t[['4.11', '1.271', '1.924', '9.32', '2.772', '11.09', '9.9'], ['4.11', '1.271', '1.924', '9.32', '2.772', '11.09', '9.9']]\n",
      "\t(104664335, '2015-05-14'):\t[['2.93', '1.34', '0.73', '7.5', '1.433', '158.7', '<28.0'], ['2.93', '1.34', '0.73', '7.5', '1.433', '158.7', '<28.0']]\n"
     ]
    }
   ],
   "source": [
    "names = thyroid_2.row_values(0)[5:12]\n",
    "print(f'rows:\\t{thyroid_2.nrows - 1}')\n",
    "print('censoring:')\n",
    "for i in range(len(names)):\n",
    "    print(f'\\t{names[i]}:{sum([1 for j in thyroid_2.col_values(5+i)[1:] if j == \"\"])}')\n",
    "print('conflict:')\n",
    "result = {}\n",
    "for i in range(1, thyroid_2.nrows):\n",
    "    row = thyroid_2.row_values(i)\n",
    "    if (int(row[0]),row[3]) not in result.keys():\n",
    "        result[(int(row[0]),row[3])] = []\n",
    "    result[(int(row[0]), row[3])].append(row[5:12])\n",
    "for k,v in result.items():\n",
    "    if len(v) > 1:\n",
    "        print(f'\\t{k}:\\t{v}')"
   ]
  },
  {
   "cell_type": "code",
   "execution_count": 35,
   "metadata": {},
   "outputs": [
    {
     "name": "stdout",
     "output_type": "stream",
     "text": [
      "558/932 records left after duplicate removal\n",
      "ovrelap:558\tconflict:1\n",
      "932 records in total\n"
     ]
    }
   ],
   "source": [
    "#获取甲状腺功能检测数据\n",
    "def pro(list):\n",
    "    # 填入16-17表格的平均值\n",
    "    default = default_data[\"thyroid\"]\n",
    "    max = [10, 5, 3, 20, 15, 1500, 700]\n",
    "    res = []\n",
    "    for i in range(len(list)):\n",
    "        try:\n",
    "            t = str_to_float(list[i])\n",
    "            if t < max[i] and t != 0:\n",
    "                res.append(t)\n",
    "            else:\n",
    "                raise IndexError\n",
    "        except IndexError:\n",
    "            # 数据缺失\n",
    "            res.append(default[i])\n",
    "    return True,res\n",
    "\n",
    "clean(thyroid_1,thyroid_2,'thyroid',pro)\n",
    "\n",
    "merge('thyroid')\n"
   ]
  },
  {
   "cell_type": "markdown",
   "metadata": {},
   "source": [
    "### ana18"
   ]
  },
  {
   "cell_type": "markdown",
   "metadata": {},
   "source": [
    "#### sheet 1"
   ]
  },
  {
   "cell_type": "code",
   "execution_count": 36,
   "metadata": {},
   "outputs": [
    {
     "name": "stdout",
     "output_type": "stream",
     "text": [
      "rows:\t696\n",
      "censoring:\n",
      "\t抗核抗体（IgG型）:4\n",
      "\t抗双链DNA抗体（IgG型）:1\n",
      "\t抗细胞浆抗体:9\n",
      "\t抗中心粒抗体:8\n",
      "\t抗Sm抗体（LIA）:7\n",
      "\t抗RNP抗体（LIA）:7\n",
      "\t抗SSA抗体（LIA）:6\n",
      "\t抗SSB抗体（LIA）:8\n",
      "\t抗Sc1-70抗体（LIA）:8\n",
      "\t抗Jo-1抗体（LIA）:9\n",
      "\t抗核糖体抗体（LIA）:10\n",
      "\t增值性核抗原抗体（LIA）:8\n",
      "\t抗组蛋白抗体（LIA）:9\n",
      "\t抗Ro 52抗体（LIA）:6\n",
      "\t抗PM-Scl抗体（LIA）:6\n",
      "\t抗核小体抗体（LIA）:6\n",
      "\t抗着丝点B抗体（LIA）:6\n",
      "\t抗线粒体抗体M2亚型（LIA）:6\n",
      "\tDNP乳胶凝集试验（LIA）:8\n",
      "conflict:\n",
      "\t(101789021, '2015-12-22'):\t[['', '阴性', '阴性', '阴性', '阴性', '阴性', '阴性'], ['阴性', '阴性', '阴性', '阴性', '阴性', '阴性', '阴性']]\n",
      "\t(102051979, '2016-02-22'):\t[['阴性', '阴性', '阴性', '阴性', '阴性', '阴性', '阴性'], ['阴性', '阴性', '阴性', '阴性', '阴性', '阴性', '阴性']]\n",
      "\t(107082985, '2014-11-20'):\t[['阴性', '阴性', '阴性', '阴性', '阴性', '阴性', '阴性'], ['阴性', '阴性', '阴性', '阴性', '阴性', '阴性', '阴性']]\n",
      "\t(103362407, '2015-02-25'):\t[['阳性', '阴性', '阴性', '阴性', '阴性', '阴性', '阴性'], ['阳性', '阴性', '阴性', '阴性', '阴性', '阴性', '阴性']]\n",
      "\t(105068845, '2016-05-26'):\t[['阳性', '阴性', '阴性', '阴性', '阴性', '阴性', '阳性'], ['阳性', '阴性', '阴性', '阴性', '阴性', '阴性', '阳性']]\n",
      "\t(102530541, '2014-11-18'):\t[['阳性', '阴性', '阴性', '阴性', '阴性', '阴性', '阴性'], ['阳性', '阴性', '阴性', '阴性', '阴性', '阴性', '阴性']]\n"
     ]
    }
   ],
   "source": [
    "names = ana18_1.row_values(0)[5:24]\n",
    "print(f'rows:\\t{ana18_1.nrows - 1}')\n",
    "print('censoring:')\n",
    "for i in range(len(names)):\n",
    "    print(f'\\t{names[i]}:{sum([1 for j in ana18_1.col_values(5+i)[1:] if not (j.__contains__(\"阴\") or j.__contains__(\"阳\"))])}')\n",
    "print('conflict:')\n",
    "result = {}\n",
    "for i in range(1, ana18_1.nrows):\n",
    "    row = ana18_1.row_values(i)\n",
    "    if (int(row[0]),row[3]) not in result.keys():\n",
    "        result[(int(row[0]),row[3])] = []\n",
    "    result[(int(row[0]), row[3])].append(row[5:12])\n",
    "for k,v in result.items():\n",
    "    if len(v) > 1:\n",
    "        print(f'\\t{k}:\\t{v}')"
   ]
  },
  {
   "cell_type": "markdown",
   "metadata": {},
   "source": [
    "#### sheet 2"
   ]
  },
  {
   "cell_type": "code",
   "execution_count": 37,
   "metadata": {},
   "outputs": [
    {
     "name": "stdout",
     "output_type": "stream",
     "text": [
      "rows:\t1106\n",
      "censoring:\n",
      "\t抗核抗体（IgG型）:4\n",
      "\t抗双链DNA抗体（IgG型）:1\n",
      "\t抗细胞浆抗体:10\n",
      "\t抗中心粒抗体:9\n",
      "\t抗Sm抗体（LIA）:8\n",
      "\t抗RNP抗体（LIA）:8\n",
      "\t抗SSA抗体（LIA）:7\n",
      "\t抗SSB抗体（LIA）:9\n",
      "\t抗Sc1-70抗体（LIA）:9\n",
      "\t抗Jo-1抗体（LIA）:10\n",
      "\t抗核糖体抗体（LIA）:11\n",
      "\t增值性核抗原抗体（LIA）:9\n",
      "\t抗组蛋白抗体（LIA）:11\n",
      "\t抗Ro 52抗体（LIA）:7\n",
      "\t抗PM-Scl抗体（LIA）:7\n",
      "\t抗核小体抗体（LIA）:7\n",
      "\t抗着丝点B抗体（LIA）:7\n",
      "\t抗线粒体抗体M2亚型（LIA）:7\n",
      "\tDNP乳胶凝集试验（LIA）:9\n",
      "conflict:\n",
      "\t(101789021, '2015-12-22'):\t[['', '阴性', '阴性', '阴性', '阴性', '阴性', '阴性'], ['阴性', '阴性', '阴性', '阴性', '阴性', '阴性', '阴性']]\n",
      "\t(102051979, '2016-02-22'):\t[['阴性', '阴性', '阴性', '阴性', '阴性', '阴性', '阴性'], ['阴性', '阴性', '阴性', '阴性', '阴性', '阴性', '阴性']]\n",
      "\t(107082985, '2014-11-20'):\t[['阴性', '阴性', '阴性', '阴性', '阴性', '阴性', '阴性'], ['阴性', '阴性', '阴性', '阴性', '阴性', '阴性', '阴性']]\n",
      "\t(103362407, '2015-02-25'):\t[['阳性', '阴性', '阴性', '阴性', '阴性', '阴性', '阴性'], ['阳性', '阴性', '阴性', '阴性', '阴性', '阴性', '阴性']]\n",
      "\t(105068845, '2016-05-26'):\t[['阳性', '阴性', '阴性', '阴性', '阴性', '阴性', '阳性'], ['阳性', '阴性', '阴性', '阴性', '阴性', '阴性', '阳性']]\n",
      "\t(102530541, '2014-11-18'):\t[['阳性', '阴性', '阴性', '阴性', '阴性', '阴性', '阴性'], ['阳性', '阴性', '阴性', '阴性', '阴性', '阴性', '阴性']]\n"
     ]
    }
   ],
   "source": [
    "names = ana18_2.row_values(0)[5:24]\n",
    "print(f'rows:\\t{ana18_2.nrows - 1}')\n",
    "print('censoring:')     #统计缺失情况\n",
    "for i in range(len(names)):\n",
    "    print(f'\\t{names[i]}:{sum([1 for j in ana18_2.col_values(5+i)[1:] if not (j.__contains__(\"阴\") or j.__contains__(\"阳\"))])}')\n",
    "print('conflict:')\n",
    "result = {}\n",
    "for i in range(1, ana18_2.nrows):\n",
    "    row = ana18_2.row_values(i)\n",
    "    if (int(row[0]),row[3]) not in result.keys():\n",
    "        result[(int(row[0]),row[3])] = []\n",
    "    result[(int(row[0]), row[3])].append(row[5:12])\n",
    "for k,v in result.items():\n",
    "    if len(v) > 1:\n",
    "        print(f'\\t{k}:\\t{v}')"
   ]
  },
  {
   "cell_type": "code",
   "execution_count": 38,
   "metadata": {},
   "outputs": [
    {
     "name": "stdout",
     "output_type": "stream",
     "text": [
      "0000-00-00\n",
      "0000-00-00\n",
      "0000-00-00\n",
      "0000-00-00\n",
      "688/1098 records left after duplicate removal\n",
      "ovrelap:688\tconflict:0\n",
      "1098 records in total\n"
     ]
    }
   ],
   "source": [
    "def pro(list):\n",
    "    res = []\n",
    "    for i in range(len(list)):\n",
    "        if list[i].__contains__('阳'):\n",
    "            return True,[1]\n",
    "    return True,[0]\n",
    "clean(ana18_1,ana18_2,'ana18',pro)\n",
    "merge('ana18')"
   ]
  },
  {
   "cell_type": "markdown",
   "metadata": {},
   "source": [
    "### AQP4IgG"
   ]
  },
  {
   "cell_type": "markdown",
   "metadata": {},
   "source": [
    "#### sheet 1"
   ]
  },
  {
   "cell_type": "code",
   "execution_count": 39,
   "metadata": {},
   "outputs": [
    {
     "name": "stdout",
     "output_type": "stream",
     "text": [
      "rows:\t2777\n",
      "censoring:\n",
      "\tAQP4IgG:9\n",
      "conflict:\n",
      "\t(102070737, '2016-01-14'):\t['阳性', '']\n",
      "\t(107082985, '2014-11-21'):\t['阴性', '阴性']\n",
      "\t(101909625, '2014-03-26'):\t['阳性', '阳性']\n",
      "\t(102530541, '2014-11-18'):\t['阳性', '阳性']\n",
      "\t(107082565, '2015-12-14'):\t['阴性', '阴性']\n",
      "\t(102342521, '2015-04-23'):\t['阳性', '阳性']\n",
      "\t(107082951, '2014-12-10'):\t['阳性', '阳性']\n",
      "\t(101665973, '2015-06-11'):\t['阳性', '阳性']\n",
      "\t(107082945, '2014-12-25'):\t['阳性', '阳性']\n",
      "\t(104225313, '2014-11-25'):\t['阴性', '阴性', '阴性']\n"
     ]
    }
   ],
   "source": [
    "names = aqp4igg_1.row_values(0)[5]\n",
    "print(f'rows:\\t{aqp4igg_1.nrows - 1}')\n",
    "print(f'censoring:\\n\\t{names}:{sum([1 for i in aqp4igg_1.col_values(5)[1:] if i == \"\"])}')\n",
    "print('conflict:')\n",
    "result = {}\n",
    "for i in range(1, aqp4igg_1.nrows):\n",
    "    row = aqp4igg_1.row_values(i)\n",
    "    if (int(row[0]),row[3]) not in result.keys():\n",
    "        result[(int(row[0]),row[3])] = []\n",
    "    result[(int(row[0]), row[3])].append(row[5])\n",
    "for k,v in result.items():\n",
    "    if len(v) > 1:\n",
    "        print(f'\\t{k}:\\t{v}')"
   ]
  },
  {
   "cell_type": "markdown",
   "metadata": {},
   "source": [
    "#### sheet 2"
   ]
  },
  {
   "cell_type": "code",
   "execution_count": 40,
   "metadata": {},
   "outputs": [
    {
     "name": "stdout",
     "output_type": "stream",
     "text": [
      "rows:\t4178\n",
      "censoring:\n",
      "\tAQP4IgG:45\n",
      "conflict:\n",
      "\t(102070737, '2016-01-14'):\t['阳性', '']\n",
      "\t(107082985, '2014-11-21'):\t['阴性', '阴性']\n",
      "\t(101909625, '2014-03-26'):\t['阳性', '阳性']\n",
      "\t(102530541, '2014-11-18'):\t['阳性', '阳性']\n",
      "\t(107082565, '2015-12-14'):\t['阴性', '阴性']\n",
      "\t(102342521, '2015-04-23'):\t['阳性', '阳性']\n",
      "\t(107082951, '2014-12-10'):\t['阳性', '阳性']\n",
      "\t(101665973, '2015-06-11'):\t['阳性', '阳性']\n",
      "\t(107082945, '2014-12-25'):\t['阳性', '阳性']\n",
      "\t(104225313, '2014-11-25'):\t['阴性', '阴性', '阴性']\n"
     ]
    }
   ],
   "source": [
    "names = aqp4igg_2.row_values(0)[5]\n",
    "print(f'rows:\\t{aqp4igg_2.nrows - 1}')\n",
    "print(f'censoring:\\n\\t{names}:{sum([1 for i in aqp4igg_2.col_values(5)[1:] if i == \"\"])}')\n",
    "print('conflict:')\n",
    "result = {}\n",
    "for i in range(1, aqp4igg_2.nrows):\n",
    "    row = aqp4igg_2.row_values(i)\n",
    "    if (int(row[0]),row[3]) not in result.keys():\n",
    "        result[(int(row[0]),row[3])] = []\n",
    "    result[(int(row[0]), row[3])].append(row[5])\n",
    "for k,v in result.items():\n",
    "    if len(v) > 1:\n",
    "        print(f'\\t{k}:\\t{v}')"
   ]
  },
  {
   "cell_type": "code",
   "execution_count": 41,
   "metadata": {},
   "outputs": [
    {
     "name": "stdout",
     "output_type": "stream",
     "text": [
      "2766/4167 records left after duplicate removal\n",
      "ovrelap:2766\tconflict:0\n",
      "4167 records in total\n"
     ]
    }
   ],
   "source": [
    "def pro(list):\n",
    "    k = re.compile(r'(\\d+:\\d+)', re.S)\n",
    "    t = re.findall(k, list[1])\n",
    "    if len(t) > 0:\n",
    "        t = t[0].split(\":\")\n",
    "        t = t[1] + \"/\" + t[0]\n",
    "        return True,[eval(t)]\n",
    "    if list[0].__contains__(\"强\"):\n",
    "        return True,[100]\n",
    "    elif list[0].__contains__(\"弱\"):\n",
    "        return True,[10]\n",
    "    elif list[0].__contains__(\"阳\"):\n",
    "        return True,[32]\n",
    "    else:\n",
    "        return True,[0]\n",
    "clean(aqp4igg_1,aqp4igg_2,'aqp4igg',pro)\n",
    "merge('aqp4igg')"
   ]
  },
  {
   "cell_type": "markdown",
   "metadata": {},
   "source": [
    "### VitD"
   ]
  },
  {
   "cell_type": "markdown",
   "metadata": {},
   "source": [
    "#### sheet 1"
   ]
  },
  {
   "cell_type": "code",
   "execution_count": 42,
   "metadata": {},
   "outputs": [
    {
     "name": "stdout",
     "output_type": "stream",
     "text": [
      "rows:\t1634\n",
      "censoring:\n",
      "\t25-OH-VitD（总）:17\n",
      "\t1,25-OH-VitD3:299\n",
      "conflict:\n"
     ]
    }
   ],
   "source": [
    "names = [vitd_1.row_values(0)[6], vitd_1.row_values(0)[10]]\n",
    "print(f'rows:\\t{vitd_1.nrows - 1}')\n",
    "print('censoring:')\n",
    "print(f'\\t{names[0]}:{sum([1 for i in vitd_1.col_values(6)[1:] if i == \"\"])}')\n",
    "print(f'\\t{names[1]}:{sum([1 for i in vitd_1.col_values(10)[1:] if i == \"\"])}')\n",
    "print('conflict:')\n",
    "result = {}\n",
    "for i in range(1, vitd_1.nrows):\n",
    "    row = vitd_1.row_values(i)\n",
    "    if (int(row[0]),row[3]) not in result.keys():\n",
    "        result[(int(row[0]),row[3])] = []\n",
    "    result[(int(row[0]), row[3])].append((row[6],row[10]))\n",
    "for k,v in result.items():\n",
    "    if len(v) > 1:\n",
    "        print(f'\\t{k}:\\t{v}')"
   ]
  },
  {
   "cell_type": "markdown",
   "metadata": {},
   "source": [
    "#### sheet 2"
   ]
  },
  {
   "cell_type": "code",
   "execution_count": 43,
   "metadata": {},
   "outputs": [
    {
     "name": "stdout",
     "output_type": "stream",
     "text": [
      "rows:\t803\n",
      "censoring:\n",
      "\t25-OH-VitD（总）:5\n",
      "\t1,25-OH-VitD3:18\n",
      "conflict:\n"
     ]
    }
   ],
   "source": [
    "names = [vitd_2.row_values(0)[5], vitd_2.row_values(0)[6]]\n",
    "print(f'rows:\\t{vitd_2.nrows - 1}')\n",
    "print('censoring:')\n",
    "print(f'\\t{names[0]}:{sum([1 for i in vitd_2.col_values(5)[1:] if i == \"\"])}')\n",
    "print(f'\\t{names[1]}:{sum([1 for i in vitd_2.col_values(6)[1:] if i == \"\"])}')\n",
    "print('conflict:')\n",
    "result = {}\n",
    "for i in range(1, vitd_2.nrows):\n",
    "    row = vitd_2.row_values(i)\n",
    "    if (int(row[0]),row[3]) not in result.keys():\n",
    "        result[(int(row[0]),row[3])] = []\n",
    "    result[(int(row[0]), row[3])].append((row[5],row[6]))\n",
    "for k,v in result.items():\n",
    "    if len(v) > 1:\n",
    "        print(f'\\t{k}:\\t{v}')"
   ]
  },
  {
   "cell_type": "code",
   "execution_count": 44,
   "metadata": {},
   "outputs": [
    {
     "name": "stdout",
     "output_type": "stream",
     "text": [
      "1634/803 records left after duplicate removal\n",
      "ovrelap:0\tconflict:0\n",
      "2437 records in total\n"
     ]
    }
   ],
   "source": [
    "def pro(list):\n",
    "    default = default_data['vitd']\n",
    "    try:\n",
    "        vitd = str_to_float(list[0])\n",
    "    except IndexError:\n",
    "        vitd = default[0]\n",
    "    try:\n",
    "        vitd2 = str_to_float(list[1])\n",
    "    except IndexError:\n",
    "        vitd2 = default[1]\n",
    "    return True,[vitd,vitd2]\n",
    "clean(vitd_1,vitd_2,'vitd',pro)\n",
    "merge('vitd')"
   ]
  },
  {
   "cell_type": "markdown",
   "metadata": {},
   "source": [
    "### T-B"
   ]
  },
  {
   "cell_type": "markdown",
   "metadata": {},
   "source": [
    "#### sheet 1"
   ]
  },
  {
   "cell_type": "code",
   "execution_count": 45,
   "metadata": {},
   "outputs": [
    {
     "name": "stdout",
     "output_type": "stream",
     "text": [
      "rows:\t1444\n",
      "censoring:\n",
      "\tB淋巴细胞CD19＋:3\n",
      "\tB淋巴细胞CD19＋ (%):0\n",
      "\t自然杀伤细胞CD16＋CD56＋:3\n",
      "\t自然杀伤细胞CD16＋CD56＋ (%):3\n",
      "\tT淋巴细胞CD3＋:4\n",
      "\tT淋巴细胞CD3＋ (%):1\n",
      "\tT辅助细胞 CD3＋/CD4＋:10\n",
      "\tT抑制/细胞毒细胞CD3＋/CD8＋:10\n",
      "\tT抑制/细胞毒细胞CD3＋/CD8＋ (%):27\n",
      "\tT淋巴细胞CD4＋:142\n",
      "conflict:\n"
     ]
    }
   ],
   "source": [
    "names = t_b_1.row_values(0)[5:14] + [t_b_1.row_values(0)[19]]\n",
    "print(f'rows:\\t{t_b_1.nrows - 1}')\n",
    "print('censoring:')\n",
    "for i in range(len(names) - 1):\n",
    "    print(f'\\t{names[i]}:{sum([1 for j in t_b_1.col_values(5+i)[1:] if j == \"\"])}')\n",
    "print(f'\\t{names[-1]}:{sum([1 for i in t_b_1.col_values(19)[1:] if i == \"\"])}')\n",
    "print('conflict:')\n",
    "result = {}\n",
    "for i in range(1, t_b_1.nrows):\n",
    "    row = t_b_1.row_values(i)\n",
    "    if (int(row[0]),row[3]) not in result.keys():\n",
    "        result[(int(row[0]),row[3])] = []\n",
    "    result[(int(row[0]), row[3])].append(row[5:14]+[row[19]])\n",
    "for k,v in result.items():\n",
    "    if len(v) > 1:\n",
    "        print(f'\\t{k}:\\t{v}')"
   ]
  },
  {
   "cell_type": "markdown",
   "metadata": {},
   "source": [
    "#### sheet 2"
   ]
  },
  {
   "cell_type": "code",
   "execution_count": 46,
   "metadata": {},
   "outputs": [
    {
     "name": "stdout",
     "output_type": "stream",
     "text": [
      "rows:\t995\n",
      "censoring:\n",
      "\tB淋巴细胞CD19＋:2\n",
      "\tB淋巴细胞CD19＋ (%):1\n",
      "\t自然杀伤细胞CD16＋CD56＋:2\n",
      "\t自然杀伤细胞CD16＋CD56＋ (%):2\n",
      "\tT淋巴细胞CD3＋:2\n",
      "\tT淋巴细胞CD3＋ (%):2\n",
      "\tT辅助细胞 CD3＋/CD4＋:1\n",
      "\tT抑制/细胞毒细胞CD3＋/CD8＋:1\n",
      "\tT抑制/细胞毒细胞CD3＋/CD8＋ (%):6\n",
      "\tT淋巴细胞CD4＋:41\n",
      "conflict:\n"
     ]
    }
   ],
   "source": [
    "names = t_b_2.row_values(0)[5:14] + [t_b_2.row_values(0)[19]]\n",
    "print(f'rows:\\t{t_b_2.nrows - 1}')\n",
    "print('censoring:')\n",
    "for i in range(len(names) - 1):\n",
    "    print(f'\\t{names[i]}:{sum([1 for j in t_b_2.col_values(5+i)[1:] if j == \"\"])}')\n",
    "print(f'\\t{names[-1]}:{sum([1 for i in t_b_2.col_values(19)[1:] if i == \"\"])}')\n",
    "print('conflict:')\n",
    "result = {}\n",
    "for i in range(1, t_b_2.nrows):\n",
    "    row = t_b_2.row_values(i)\n",
    "    if (int(row[0]),row[3]) not in result.keys():\n",
    "        result[(int(row[0]),row[3])] = []\n",
    "    result[(int(row[0]), row[3])].append(row[5:14]+[row[19]])\n",
    "for k,v in result.items():\n",
    "    if len(v) > 1:\n",
    "        print(f'\\t{k}:\\t{v}')"
   ]
  },
  {
   "cell_type": "code",
   "execution_count": 47,
   "metadata": {},
   "outputs": [
    {
     "name": "stdout",
     "output_type": "stream",
     "text": [
      "1444/995 records left after duplicate removal\n",
      "ovrelap:0\tconflict:0\n",
      "2439 records in total\n"
     ]
    }
   ],
   "source": [
    "def pro(list):\n",
    "    \n",
    "    # 填入16-17表格的平均值\n",
    "    default = default_data[\"t_b\"]\n",
    "    max = [2500, 100, 2000, 100, 7000, 100, 4000, 3000, 100, 100]\n",
    "    res = []\n",
    "    for i in range(len(list)):\n",
    "        try:\n",
    "            t = str_to_float(list[i])\n",
    "            if t < max[i]:\n",
    "                res.append(t)\n",
    "            else:\n",
    "                raise IndexError\n",
    "        except IndexError:\n",
    "            # 数据缺失\n",
    "            res.append(default[i])\n",
    "    return True,res\n",
    "clean(t_b_1,t_b_2,'t_b',pro)\n",
    "merge('t_b')"
   ]
  },
  {
   "cell_type": "markdown",
   "metadata": {},
   "source": [
    "### IG3"
   ]
  },
  {
   "cell_type": "markdown",
   "metadata": {},
   "source": [
    "#### sheet 1"
   ]
  },
  {
   "cell_type": "code",
   "execution_count": 48,
   "metadata": {},
   "outputs": [
    {
     "name": "stdout",
     "output_type": "stream",
     "text": [
      "rows:\t1381\n",
      "censoring:\n",
      "\tIgG:1\n",
      "\tIgA:1\n",
      "\tIgM:1\n",
      "conflict:\n"
     ]
    }
   ],
   "source": [
    "names = ig3_1.row_values(0)[5:8]\n",
    "print(f'rows:\\t{ig3_1.nrows - 1}')\n",
    "print('censoring:')\n",
    "for i in range(len(names)):\n",
    "    print(f'\\t{names[i]}:{sum([1 for j in ig3_1.col_values(5+i)[1:] if j == \"\"])}')\n",
    "print('conflict:')\n",
    "result = {}\n",
    "for i in range(1, ig3_1.nrows):\n",
    "    row = ig3_1.row_values(i)\n",
    "    if (int(row[0]),row[3]) not in result.keys():\n",
    "        result[(int(row[0]),row[3])] = []\n",
    "    result[(int(row[0]), row[3])].append(row[5:8])\n",
    "for k,v in result.items():\n",
    "    if len(v) > 1:\n",
    "        print(f'\\t{k}:\\t{v}')"
   ]
  },
  {
   "cell_type": "markdown",
   "metadata": {},
   "source": [
    "#### sheet 2"
   ]
  },
  {
   "cell_type": "code",
   "execution_count": 49,
   "metadata": {},
   "outputs": [
    {
     "name": "stdout",
     "output_type": "stream",
     "text": [
      "rows:\t960\n",
      "censoring:\n",
      "\tIgG:4\n",
      "\tIgA:4\n",
      "\tIgM:5\n",
      "conflict:\n"
     ]
    }
   ],
   "source": [
    "names = ig3_2.row_values(0)[5:8]\n",
    "print(f'rows:\\t{ig3_2.nrows - 1}')\n",
    "print('censoring:')\n",
    "for i in range(len(names)):\n",
    "    print(f'\\t{names[i]}:{sum([1 for j in ig3_2.col_values(5+i)[1:] if j == \"\"])}')\n",
    "print('conflict:')\n",
    "result = {}\n",
    "for i in range(1, ig3_2.nrows):\n",
    "    row = ig3_2.row_values(i)\n",
    "    if (int(row[0]),row[3]) not in result.keys():\n",
    "        result[(int(row[0]),row[3])] = []\n",
    "    result[(int(row[0]), row[3])].append(row[5:8])\n",
    "for k,v in result.items():\n",
    "    if len(v) > 1:\n",
    "        print(f'\\t{k}:\\t{v}')"
   ]
  },
  {
   "cell_type": "code",
   "execution_count": 50,
   "metadata": {},
   "outputs": [
    {
     "name": "stdout",
     "output_type": "stream",
     "text": [
      "1381/960 records left after duplicate removal\n",
      "ovrelap:0\tconflict:0\n",
      "2341 records in total\n"
     ]
    }
   ],
   "source": [
    "def pro(list):\n",
    "    default = default_data['ig3']\n",
    "    try:\n",
    "        igg = str_to_float(list[0])\n",
    "    except IndexError:\n",
    "        igg = default[0]\n",
    "    try:\n",
    "        iga = str_to_float(list[1])\n",
    "        if iga > 10:\n",
    "            raise IndexError\n",
    "    except IndexError:\n",
    "        iga = default[1]\n",
    "    try:\n",
    "        igm = str_to_float(list[2])\n",
    "    except IndexError:\n",
    "        igm = default[2]\n",
    "    return True,[igg,iga,igm]\n",
    "clean(ig3_1,ig3_2,'ig3',pro)\n",
    "merge('ig3')"
   ]
  },
  {
   "cell_type": "markdown",
   "metadata": {},
   "source": [
    "### IL-6"
   ]
  },
  {
   "cell_type": "markdown",
   "metadata": {},
   "source": [
    "#### sheet 1"
   ]
  },
  {
   "cell_type": "code",
   "execution_count": 51,
   "metadata": {},
   "outputs": [
    {
     "name": "stdout",
     "output_type": "stream",
     "text": [
      "rows:\t1299\n",
      "censoring:\n",
      "\tIL-6:4\n",
      "conflict:\n"
     ]
    }
   ],
   "source": [
    "names = il_6_1.row_values(0)[5]\n",
    "print(f'rows:\\t{il_6_1.nrows - 1}')\n",
    "print('censoring:')\n",
    "print(f'\\t{names}:{sum([1 for i in il_6_1.col_values(5)[1:] if i == \"\"])}')\n",
    "print('conflict:')\n",
    "result = {}\n",
    "for i in range(1, il_6_1.nrows):\n",
    "    row = il_6_1.row_values(i)\n",
    "    if (int(row[0]),row[3]) not in result.keys():\n",
    "        result[(int(row[0]),row[3])] = []\n",
    "    result[(int(row[0]), row[3])].append(row[5])\n",
    "for k,v in result.items():\n",
    "    if len(v) > 1:\n",
    "        print(f'\\t{k}:\\t{v}')"
   ]
  },
  {
   "cell_type": "markdown",
   "metadata": {},
   "source": [
    "#### sheet 2"
   ]
  },
  {
   "cell_type": "code",
   "execution_count": 52,
   "metadata": {},
   "outputs": [
    {
     "name": "stdout",
     "output_type": "stream",
     "text": [
      "rows:\t946\n",
      "censoring:\n",
      "\tIL-6:0\n",
      "conflict:\n"
     ]
    }
   ],
   "source": [
    "names = il_6_2.row_values(0)[5]\n",
    "print(f'rows:\\t{il_6_2.nrows - 1}')\n",
    "print('censoring:')\n",
    "print(f'\\t{names}:{sum([1 for i in il_6_2.col_values(5)[1:] if i == \"\"])}')\n",
    "print(f'conflict:')\n",
    "result = {}\n",
    "for i in range(1, il_6_2.nrows):\n",
    "    row = il_6_2.row_values(i)\n",
    "    if (int(row[0]),row[3]) not in result.keys():\n",
    "        result[(int(row[0]),row[3])] = []\n",
    "    result[(int(row[0]), row[3])].append(row[5])\n",
    "for k,v in result.items():\n",
    "    if len(v) > 1:\n",
    "        print(f'\\t{k}:\\t{v}')"
   ]
  },
  {
   "cell_type": "code",
   "execution_count": 53,
   "metadata": {},
   "outputs": [
    {
     "name": "stdout",
     "output_type": "stream",
     "text": [
      "1299/946 records left after duplicate removal\n",
      "ovrelap:0\tconflict:0\n",
      "2245 records in total\n"
     ]
    }
   ],
   "source": [
    "def pro(list):\n",
    "    try:\n",
    "        t = str_to_float(list[0])\n",
    "        if t < 30:\n",
    "            return True,[t]\n",
    "        else:\n",
    "            raise IndexError\n",
    "    except IndexError:\n",
    "        return True,default_data['il_6']\n",
    "\n",
    "clean(il_6_1,il_6_2,'il_6',pro)\n",
    "merge('il_6')"
   ]
  },
  {
   "cell_type": "markdown",
   "metadata": {},
   "source": [
    "### 脑脊液常规WBC"
   ]
  },
  {
   "cell_type": "markdown",
   "metadata": {},
   "source": [
    "#### sheet 1"
   ]
  },
  {
   "cell_type": "code",
   "execution_count": 54,
   "metadata": {},
   "outputs": [
    {
     "name": "stdout",
     "output_type": "stream",
     "text": [
      "rows:\t375\n",
      "censoring:\n",
      "\tWBC细胞计数:67\n",
      "conflict:\n",
      "\t(102051979, '2016-02-23'):\t[2.0, 2.0]\n",
      "\t(105350297, '2016-07-29'):\t[2.0, 2.0]\n",
      "\t(101665973, '2015-06-11'):\t[6.0, 6.0]\n"
     ]
    }
   ],
   "source": [
    "names = wbc_1.row_values(0)[5]\n",
    "print(f'rows:\\t{wbc_1.nrows - 1}')\n",
    "print('censoring:')\n",
    "print(f'\\t{names}:{sum([1 for i in wbc_1.col_values(5)[1:] if i == \"\"])}')\n",
    "print(f'conflict:')\n",
    "result = {}\n",
    "for i in range(1, wbc_1.nrows):\n",
    "    row = wbc_1.row_values(i)\n",
    "    if (int(row[0]),row[3]) not in result.keys():\n",
    "        result[(int(row[0]),row[3])] = []\n",
    "    result[(int(row[0]), row[3])].append(row[5])\n",
    "for k,v in result.items():\n",
    "    if len(v) > 1:\n",
    "        print(f'\\t{k}:\\t{v}')"
   ]
  },
  {
   "cell_type": "markdown",
   "metadata": {},
   "source": [
    "#### sheet 2"
   ]
  },
  {
   "cell_type": "code",
   "execution_count": 55,
   "metadata": {},
   "outputs": [
    {
     "name": "stdout",
     "output_type": "stream",
     "text": [
      "rows:\t211\n",
      "censoring:\n",
      "\tWBC细胞计数:2\n",
      "conflict:\n"
     ]
    }
   ],
   "source": [
    "names = wbc_2.row_values(0)[5]\n",
    "print(f'rows:\\t{wbc_2.nrows - 1}')\n",
    "print('censoring:')\n",
    "print(f'\\t{names}:{sum([1 for i in wbc_2.col_values(5)[1:] if i == \"\"])}')\n",
    "print(f'conflict:')\n",
    "result = {}\n",
    "for i in range(1, wbc_2.nrows):\n",
    "    row = wbc_2.row_values(i)\n",
    "    if (int(row[0]),row[3]) not in result.keys():\n",
    "        result[(int(row[0]),row[3])] = []\n",
    "    result[(int(row[0]), row[3])].append(row[5])\n",
    "for k,v in result.items():\n",
    "    if len(v) > 1:\n",
    "        print(f'\\t{k}:\\t{v}')"
   ]
  },
  {
   "cell_type": "code",
   "execution_count": 56,
   "metadata": {},
   "outputs": [
    {
     "name": "stdout",
     "output_type": "stream",
     "text": [
      "0000-00-00\n",
      "0000-00-00\n",
      "370/211 records left after duplicate removal\n",
      "ovrelap:0\tconflict:0\n",
      "581 records in total\n"
     ]
    }
   ],
   "source": [
    "def pro(list):\n",
    "    try:\n",
    "        t = str_to_float(list[0])\n",
    "        return True,[t]\n",
    "    except:\n",
    "        return True,default_data['wbc']\n",
    "clean(wbc_1,wbc_2,'wbc',pro)\n",
    "merge('wbc')"
   ]
  },
  {
   "cell_type": "markdown",
   "metadata": {},
   "source": [
    "### CSF(脑脊液生化)"
   ]
  },
  {
   "cell_type": "markdown",
   "metadata": {},
   "source": [
    "#### sheet 1"
   ]
  },
  {
   "cell_type": "code",
   "execution_count": 57,
   "metadata": {},
   "outputs": [
    {
     "name": "stdout",
     "output_type": "stream",
     "text": [
      "rows:\t307\n",
      "censoring:\n",
      "\t蛋白:0\n",
      "conflict:\n",
      "\t(102051979, '2016-02-23'):\t[0.3, 0.3]\n",
      "\t(105350297, '2016-07-29'):\t['0.47 升高', 0.47]\n",
      "\t(101665973, '2015-06-11'):\t[0.35, 0.35]\n"
     ]
    }
   ],
   "source": [
    "names = csf_1.row_values(0)[5]\n",
    "print(f'rows:\\t{csf_1.nrows - 1}')\n",
    "print('censoring:')\n",
    "print(f'\\t{names}:{sum([1 for i in csf_1.col_values(5)[1:] if i == \"\"])}')\n",
    "print(f'conflict:')\n",
    "result = {}\n",
    "for i in range(1, csf_1.nrows):\n",
    "    row = csf_1.row_values(i)\n",
    "    if (int(row[0]),row[3]) not in result.keys():\n",
    "        result[(int(row[0]),row[3])] = []\n",
    "    result[(int(row[0]), row[3])].append(row[5])\n",
    "for k,v in result.items():\n",
    "    if len(v) > 1:\n",
    "        print(f'\\t{k}:\\t{v}')"
   ]
  },
  {
   "cell_type": "markdown",
   "metadata": {},
   "source": [
    "#### sheet 2"
   ]
  },
  {
   "cell_type": "code",
   "execution_count": 58,
   "metadata": {},
   "outputs": [
    {
     "name": "stdout",
     "output_type": "stream",
     "text": [
      "rows:\t211\n",
      "censoring:\n",
      "\t蛋白:0\n",
      "conflict:\n"
     ]
    }
   ],
   "source": [
    "names = csf_2.row_values(0)[7]\n",
    "print(f'rows:\\t{csf_2.nrows - 1}')\n",
    "print('censoring:')\n",
    "print(f'\\t{names}:{sum([1 for i in csf_2.col_values(7)[1:] if i == \"\"])}')\n",
    "print(f'conflict:')\n",
    "result = {}\n",
    "for i in range(1, csf_2.nrows):\n",
    "    row = csf_2.row_values(i)\n",
    "    if (int(row[0]),row[3]) not in result.keys():\n",
    "        result[(int(row[0]),row[3])] = []\n",
    "    result[(int(row[0]), row[3])].append(row[7])\n",
    "for k,v in result.items():\n",
    "    if len(v) > 1:\n",
    "        print(f'\\t{k}:\\t{v}')"
   ]
  },
  {
   "cell_type": "code",
   "execution_count": 59,
   "metadata": {},
   "outputs": [
    {
     "name": "stdout",
     "output_type": "stream",
     "text": [
      "304/211 records left after duplicate removal\n",
      "ovrelap:0\tconflict:0\n",
      "515 records in total\n"
     ]
    }
   ],
   "source": [
    "def pro(list):\n",
    "    try:\n",
    "        t = str_to_float(list[0])\n",
    "        if t < 10:\n",
    "            return True,[t]\n",
    "        else:\n",
    "            raise IndexError\n",
    "    except IndexError:\n",
    "        return True,[0.4]\n",
    "clean(csf_1,csf_2,'csf',pro)\n",
    "merge('csf')"
   ]
  },
  {
   "cell_type": "markdown",
   "metadata": {},
   "source": [
    "### OCB"
   ]
  },
  {
   "cell_type": "markdown",
   "metadata": {},
   "source": [
    "#### sheet 1"
   ]
  },
  {
   "cell_type": "code",
   "execution_count": 60,
   "metadata": {},
   "outputs": [
    {
     "name": "stdout",
     "output_type": "stream",
     "text": [
      "rows:\t400\n",
      "censoring:\n",
      "\tOCB(寡克隆带）:30\n",
      "conflict:\n",
      "\t(102051979, '2016-02-23'):\t['1型：血清及脑脊液均无条带', '1型：血清及脑脊液均无条带']\n",
      "\t(103699295, '2015-06-11'):\t['4型：血清与脑脊液相同条带 呈镜像分布', '4型：血清与脑脊液相同条带 呈镜像分布']\n",
      "\t(105350297, '2016-07-29'):\t['未查', '未查']\n",
      "\t(101665973, '2015-06-11'):\t['1型：血清及脑脊液均无条带', '1型：血清及脑脊液均无条带']\n"
     ]
    }
   ],
   "source": [
    "names = ocb_1.row_values(0)[5]\n",
    "print(f'rows:\\t{ocb_1.nrows - 1}')\n",
    "print('censoring:')\n",
    "print(f'\\t{names}:{sum([1 for i in ocb_1.col_values(5)[1:] if i == \"\" or i == \"未查\"])}')\n",
    "print(f'conflict:')\n",
    "result = {}\n",
    "for i in range(1, ocb_1.nrows):\n",
    "    row = ocb_1.row_values(i)\n",
    "    if (int(row[0]),row[3]) not in result.keys():\n",
    "        result[(int(row[0]),row[3])] = []\n",
    "    result[(int(row[0]), row[3])].append(row[5])\n",
    "for k,v in result.items():\n",
    "    if len(v) > 1:\n",
    "        print(f'\\t{k}:\\t{v}')"
   ]
  },
  {
   "cell_type": "markdown",
   "metadata": {},
   "source": [
    "#### sheet 2"
   ]
  },
  {
   "cell_type": "code",
   "execution_count": 61,
   "metadata": {},
   "outputs": [
    {
     "name": "stdout",
     "output_type": "stream",
     "text": [
      "rows:\t243\n",
      "censoring:\n",
      "\tOCB(寡克隆带）:0\n",
      "conflict:\n"
     ]
    }
   ],
   "source": [
    "names = ocb_2.row_values(0)[5]\n",
    "print(f'rows:\\t{ocb_2.nrows - 1}')\n",
    "print('censoring:')\n",
    "print(f'\\t{names}:{sum([1 for i in ocb_2.col_values(5)[1:] if i == \"\" or i == \"未查\"])}')\n",
    "print(f'conflict:')\n",
    "result = {}\n",
    "for i in range(1, ocb_2.nrows):\n",
    "    row = ocb_2.row_values(i)\n",
    "    if (int(row[0]),row[3]) not in result.keys():\n",
    "        result[(int(row[0]),row[3])] = []\n",
    "    result[(int(row[0]), row[3])].append(row[5])\n",
    "for k,v in result.items():\n",
    "    if len(v) > 1:\n",
    "        print(f'\\t{k}:\\t{v}')"
   ]
  },
  {
   "cell_type": "code",
   "execution_count": 62,
   "metadata": {},
   "outputs": [
    {
     "name": "stdout",
     "output_type": "stream",
     "text": [
      "0000-00-00\n",
      "0000-00-00\n",
      "365/243 records left after duplicate removal\n",
      "ovrelap:0\tconflict:0\n",
      "608 records in total\n"
     ]
    }
   ],
   "source": [
    "def pro(list):\n",
    "    k = re.compile(r'(\\d)', re.S)\n",
    "    try:\n",
    "        n = int(re.findall(k,list[0])[0])\n",
    "    except IndexError:\n",
    "        n = -1\n",
    "    if n != -1:\n",
    "        if n == 1 or n == 4:\n",
    "            return True,[0]\n",
    "        else:\n",
    "            return True,[1]\n",
    "    return False,[-1]\n",
    "clean(ocb_1,ocb_2,'ocb',pro)\n",
    "merge('ocb')"
   ]
  },
  {
   "cell_type": "markdown",
   "metadata": {},
   "source": [
    "### medicine"
   ]
  },
  {
   "cell_type": "code",
   "execution_count": 63,
   "metadata": {},
   "outputs": [
    {
     "name": "stdout",
     "output_type": "stream",
     "text": [
      "sheet 1\n",
      "\trows:\t1549\n",
      "sheet 2\n",
      "\trows:\t533\n"
     ]
    }
   ],
   "source": [
    "print(f'sheet 1\\n\\trows:\\t{medicine_1.nrows}\\nsheet 2\\n\\trows:\\t{medicine_2.nrows}')"
   ]
  },
  {
   "cell_type": "code",
   "execution_count": 64,
   "metadata": {},
   "outputs": [
    {
     "name": "stdout",
     "output_type": "stream",
     "text": [
      "2015-03-NK\n",
      "ovrelap:532\tconflict:16\n",
      "1524 records in total\n"
     ]
    }
   ],
   "source": [
    "#用药表比较特殊，提取时间是用药开始的时间\n",
    "def medicine(sheet, order):\n",
    "    def get_medicine(str):\n",
    "        res = [0, 0, 0, 0, 0, 0]\n",
    "        if str.__contains__(\"骁悉\") or str.__contains__(\"赛可平\"):\n",
    "            res[0] = 1\n",
    "        if str.__contains__(\"硫唑嘌呤\"):\n",
    "            res[1] = 1\n",
    "        if str.__contains__(\"纷乐\"):\n",
    "            res[2] = 1\n",
    "        if str.__contains__(\"环磷酰胺\"):\n",
    "            res[3] = 1\n",
    "        if str.__contains__(\"美罗华\"):\n",
    "            res[4] = 1\n",
    "        if res == [0, 0, 0, 0, 0, 0]:\n",
    "            res[5] = 1\n",
    "        return res\n",
    "\n",
    "    def pro(value, task):\n",
    "        id = int(value[0])\n",
    "        time = check_time(value[5])\n",
    "        medicine = get_medicine(value[4])\n",
    "        return [id, time] + medicine\n",
    "\n",
    "    read_table(sheet, order, \"medicine\", pro)\n",
    "\n",
    "medicine(medicine_1, 1)\n",
    "medicine(medicine_2, 2)\n",
    "merge('medicine')"
   ]
  }
 ],
 "metadata": {
  "kernelspec": {
   "display_name": "Python 3.9.12 ('xiehe': conda)",
   "language": "python",
   "name": "python3"
  },
  "language_info": {
   "codemirror_mode": {
    "name": "ipython",
    "version": 3
   },
   "file_extension": ".py",
   "mimetype": "text/x-python",
   "name": "python",
   "nbconvert_exporter": "python",
   "pygments_lexer": "ipython3",
   "version": "3.9.12 (main, Apr  5 2022, 06:56:58) \n[GCC 7.5.0]"
  },
  "orig_nbformat": 4,
  "vscode": {
   "interpreter": {
    "hash": "1f663f6e92b0e0ca447e5fe0b68568d20d1007f52df7d5630ee98a4ac62be16a"
   }
  }
 },
 "nbformat": 4,
 "nbformat_minor": 2
}
